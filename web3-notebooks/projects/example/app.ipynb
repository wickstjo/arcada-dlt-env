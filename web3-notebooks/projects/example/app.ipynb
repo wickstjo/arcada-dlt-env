{
 "cells": [
  {
   "cell_type": "code",
   "execution_count": 36,
   "id": "a81e8c0c",
   "metadata": {},
   "outputs": [],
   "source": [
    "import nbimporter"
   ]
  },
  {
   "cell_type": "code",
   "execution_count": 37,
   "id": "73dfe05a",
   "metadata": {},
   "outputs": [],
   "source": [
    "import utils\n",
    "import blockchain"
   ]
  },
  {
   "cell_type": "markdown",
   "id": "8bd28a2b",
   "metadata": {},
   "source": [
    "### PARSE RESOURCES"
   ]
  },
  {
   "cell_type": "code",
   "execution_count": 39,
   "id": "a8023dce",
   "metadata": {},
   "outputs": [],
   "source": [
    "binary_interfaces = utils.load_json('resources/binary.json')"
   ]
  },
  {
   "cell_type": "code",
   "execution_count": 38,
   "id": "fccf10d7",
   "metadata": {},
   "outputs": [],
   "source": [
    "settings = utils.load_json('resources/settings.json')"
   ]
  },
  {
   "cell_type": "code",
   "execution_count": 107,
   "id": "c93c5f8f",
   "metadata": {},
   "outputs": [
    {
     "data": {
      "text/plain": [
       "{'host': '127.0.0.1', 'port': '8545'}"
      ]
     },
     "execution_count": 107,
     "metadata": {},
     "output_type": "execute_result"
    }
   ],
   "source": [
    "settings['gateway']"
   ]
  },
  {
   "cell_type": "code",
   "execution_count": 108,
   "id": "20ac02d2",
   "metadata": {},
   "outputs": [
    {
     "data": {
      "text/plain": [
       "{'public': '0xb05Fa975E291DCe29Ef7bEeEe5e34C42f20bF3fD',\n",
       " 'private': '0xc798424a5897ee9c9a3b6af8a11a55510e4a8e7898877cd5945303061ea74b28'}"
      ]
     },
     "execution_count": 108,
     "metadata": {},
     "output_type": "execute_result"
    }
   ],
   "source": [
    "settings['keys']"
   ]
  },
  {
   "cell_type": "markdown",
   "id": "ad2d1144",
   "metadata": {},
   "source": [
    "### CONNECT WITH A BLOCKCHAIN GATEWAY"
   ]
  },
  {
   "cell_type": "code",
   "execution_count": 40,
   "id": "c91c36ad",
   "metadata": {},
   "outputs": [
    {
     "name": "stdout",
     "output_type": "stream",
     "text": [
      "CONNECTION ESTABLISHED!\n"
     ]
    }
   ],
   "source": [
    "web3_instance = blockchain.connect(settings)"
   ]
  },
  {
   "cell_type": "markdown",
   "id": "5c2454d8",
   "metadata": {},
   "source": [
    "### SERIALIZE THE PARENT CONTRACT"
   ]
  },
  {
   "cell_type": "code",
   "execution_count": 41,
   "id": "0f314096",
   "metadata": {},
   "outputs": [],
   "source": [
    "parent_contract = blockchain.contract(\n",
    "    binary_interfaces['parent'],\n",
    "    web3_instance, settings\n",
    ")"
   ]
  },
  {
   "cell_type": "markdown",
   "id": "ab52a10e",
   "metadata": {},
   "source": [
    "### ASK THE PARENT CONTRACT FOR A CHILD CONTRACT WITH THE NAME \"FOO\""
   ]
  },
  {
   "cell_type": "code",
   "execution_count": 96,
   "id": "af725f92",
   "metadata": {},
   "outputs": [],
   "source": [
    "name = 'foo'"
   ]
  },
  {
   "cell_type": "code",
   "execution_count": 97,
   "id": "87443530",
   "metadata": {},
   "outputs": [],
   "source": [
    "void_address = parent_contract.read({\n",
    "    'func': 'fetch_child',\n",
    "    'params': name\n",
    "})"
   ]
  },
  {
   "cell_type": "code",
   "execution_count": 98,
   "id": "f6bf51ef",
   "metadata": {},
   "outputs": [],
   "source": [
    "# 0x0000000000000000000000000000000000000000 MEANS VOID, IE. THAT IT DOES NOT EXIST"
   ]
  },
  {
   "cell_type": "code",
   "execution_count": 99,
   "id": "f51491b0",
   "metadata": {
    "scrolled": true
   },
   "outputs": [
    {
     "data": {
      "text/plain": [
       "'0x6Bc1e9ed409AD31c9Afff0aA613E853a6912974B'"
      ]
     },
     "execution_count": 99,
     "metadata": {},
     "output_type": "execute_result"
    }
   ],
   "source": [
    "void_address"
   ]
  },
  {
   "cell_type": "markdown",
   "id": "423c2053",
   "metadata": {},
   "source": [
    "### GENERATE A CHILD CONTRACT AND NAME IT \"FOO\""
   ]
  },
  {
   "cell_type": "code",
   "execution_count": 78,
   "id": "3da506df",
   "metadata": {},
   "outputs": [],
   "source": [
    "# EXECUTE FUNCTION WITH PARAMS"
   ]
  },
  {
   "cell_type": "code",
   "execution_count": 100,
   "id": "4d5eaa8d",
   "metadata": {},
   "outputs": [
    {
     "data": {
      "text/plain": [
       "web3.exceptions.ContractLogicError('execution reverted: VM Exception while processing transaction: revert a child with this name already exists')"
      ]
     },
     "execution_count": 100,
     "metadata": {},
     "output_type": "execute_result"
    }
   ],
   "source": [
    "parent_contract.write({\n",
    "    'func': 'create_child',\n",
    "    'params': [name]\n",
    "})"
   ]
  },
  {
   "cell_type": "markdown",
   "id": "6bd0bf2b",
   "metadata": {},
   "source": [
    "### FETCH THE CREATED CHILD CONTRACT'S ADDRESS"
   ]
  },
  {
   "cell_type": "code",
   "execution_count": 102,
   "id": "76ada1fa",
   "metadata": {},
   "outputs": [],
   "source": [
    "child_address =  parent_contract.read({\n",
    "    'func': 'fetch_child',\n",
    "    'params': name\n",
    "})"
   ]
  },
  {
   "cell_type": "code",
   "execution_count": 103,
   "id": "dc95dfe4",
   "metadata": {},
   "outputs": [
    {
     "data": {
      "text/plain": [
       "'0x6Bc1e9ed409AD31c9Afff0aA613E853a6912974B'"
      ]
     },
     "execution_count": 103,
     "metadata": {},
     "output_type": "execute_result"
    }
   ],
   "source": [
    "child_address"
   ]
  },
  {
   "cell_type": "markdown",
   "id": "8953905c",
   "metadata": {},
   "source": [
    "### SERIALIZE CHILD CONTRACT"
   ]
  },
  {
   "cell_type": "code",
   "execution_count": 104,
   "id": "a0dd179f",
   "metadata": {},
   "outputs": [],
   "source": [
    "child_contract = blockchain.contract({\n",
    "    'address': child_address,\n",
    "    'abi': binary_interfaces['child']['abi']\n",
    "}, web3_instance, settings)"
   ]
  },
  {
   "cell_type": "code",
   "execution_count": null,
   "id": "914adf59",
   "metadata": {},
   "outputs": [],
   "source": []
  }
 ],
 "metadata": {
  "kernelspec": {
   "display_name": "Python 3",
   "language": "python",
   "name": "python3"
  },
  "language_info": {
   "codemirror_mode": {
    "name": "ipython",
    "version": 3
   },
   "file_extension": ".py",
   "mimetype": "text/x-python",
   "name": "python",
   "nbconvert_exporter": "python",
   "pygments_lexer": "ipython3",
   "version": "3.8.5"
  }
 },
 "nbformat": 4,
 "nbformat_minor": 5
}
