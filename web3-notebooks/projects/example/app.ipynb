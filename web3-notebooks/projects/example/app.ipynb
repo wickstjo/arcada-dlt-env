{
 "cells": [
  {
   "cell_type": "code",
   "execution_count": 15,
   "id": "a81e8c0c",
   "metadata": {},
   "outputs": [],
   "source": [
    "import nbimporter"
   ]
  },
  {
   "cell_type": "code",
   "execution_count": 16,
   "id": "73dfe05a",
   "metadata": {},
   "outputs": [],
   "source": [
    "import utils\n",
    "import blockchain"
   ]
  },
  {
   "cell_type": "markdown",
   "id": "8bd28a2b",
   "metadata": {},
   "source": [
    "### PARSE RESOURCES"
   ]
  },
  {
   "cell_type": "code",
   "execution_count": 17,
   "id": "a8023dce",
   "metadata": {},
   "outputs": [],
   "source": [
    "binary_interfaces = utils.load_json('resources/binary.json')"
   ]
  },
  {
   "cell_type": "code",
   "execution_count": 18,
   "id": "fccf10d7",
   "metadata": {},
   "outputs": [],
   "source": [
    "settings = utils.load_json('resources/settings.json')"
   ]
  },
  {
   "cell_type": "markdown",
   "id": "ad2d1144",
   "metadata": {},
   "source": [
    "### CONNECT WITH A BLOCKCHAIN GATEWAY"
   ]
  },
  {
   "cell_type": "code",
   "execution_count": 19,
   "id": "c91c36ad",
   "metadata": {},
   "outputs": [
    {
     "name": "stdout",
     "output_type": "stream",
     "text": [
      "CONNECTION ESTABLISHED!\n"
     ]
    }
   ],
   "source": [
    "web3_instance = blockchain.connect(settings)"
   ]
  },
  {
   "cell_type": "markdown",
   "id": "5c2454d8",
   "metadata": {},
   "source": [
    "### SERIALIZE THE DEVICE MANAGER"
   ]
  },
  {
   "cell_type": "code",
   "execution_count": 20,
   "id": "0f314096",
   "metadata": {},
   "outputs": [],
   "source": [
    "device_manager = blockchain.contract(\n",
    "    binary_interfaces['devicemanager'],\n",
    "    web3_instance, settings\n",
    ")"
   ]
  },
  {
   "cell_type": "markdown",
   "id": "423c2053",
   "metadata": {},
   "source": [
    "### CREATE A NEW DEVICE CONTRACT"
   ]
  },
  {
   "cell_type": "code",
   "execution_count": 26,
   "id": "6b34dda5",
   "metadata": {},
   "outputs": [],
   "source": [
    "identifier = 'another-identifier'"
   ]
  },
  {
   "cell_type": "code",
   "execution_count": 27,
   "id": "af725f92",
   "metadata": {},
   "outputs": [],
   "source": [
    "name = 'foobar'"
   ]
  },
  {
   "cell_type": "code",
   "execution_count": 28,
   "id": "4d5eaa8d",
   "metadata": {},
   "outputs": [
    {
     "data": {
      "text/plain": [
       "web3.exceptions.ContractLogicError('execution reverted: VM Exception while processing transaction: revert this identifier already exists')"
      ]
     },
     "execution_count": 28,
     "metadata": {},
     "output_type": "execute_result"
    }
   ],
   "source": [
    "device_manager.write({\n",
    "    'func': 'create_device',\n",
    "    'args': [identifier, name]\n",
    "})"
   ]
  },
  {
   "cell_type": "markdown",
   "id": "94276ce0",
   "metadata": {},
   "source": [
    "### FETCH YOUR DEVICE COLLECTION (IDENTIFIERS)"
   ]
  },
  {
   "cell_type": "code",
   "execution_count": 29,
   "id": "6f635e44",
   "metadata": {},
   "outputs": [],
   "source": [
    "collection =  device_manager.read({\n",
    "    'func': 'fetch_collection',\n",
    "    'args': settings['keys']['public']\n",
    "})"
   ]
  },
  {
   "cell_type": "code",
   "execution_count": 30,
   "id": "12ea2a86",
   "metadata": {
    "scrolled": true
   },
   "outputs": [
    {
     "data": {
      "text/plain": [
       "['another-identifier']"
      ]
     },
     "execution_count": 30,
     "metadata": {},
     "output_type": "execute_result"
    }
   ],
   "source": [
    "collection"
   ]
  },
  {
   "cell_type": "markdown",
   "id": "6bd0bf2b",
   "metadata": {},
   "source": [
    "### FETCH THE CREATED DEVICE CONTRACT'S ADDRESS BY USING THE IDENTIFIER"
   ]
  },
  {
   "cell_type": "code",
   "execution_count": 33,
   "id": "76ada1fa",
   "metadata": {},
   "outputs": [],
   "source": [
    "device_address =  device_manager.read({\n",
    "    'func': 'fetch_device',\n",
    "    'args': identifier\n",
    "})"
   ]
  },
  {
   "cell_type": "code",
   "execution_count": 34,
   "id": "dc95dfe4",
   "metadata": {},
   "outputs": [
    {
     "data": {
      "text/plain": [
       "'0xCa24282be001a428d27FdAC4676561c2EB1DE393'"
      ]
     },
     "execution_count": 34,
     "metadata": {},
     "output_type": "execute_result"
    }
   ],
   "source": [
    "device_address"
   ]
  },
  {
   "cell_type": "markdown",
   "id": "8953905c",
   "metadata": {},
   "source": [
    "### SERIALIZE THE DEVICE CONTRACT"
   ]
  },
  {
   "cell_type": "code",
   "execution_count": 35,
   "id": "a0dd179f",
   "metadata": {},
   "outputs": [],
   "source": [
    "device_contract = blockchain.contract({\n",
    "    'address': device_address,\n",
    "    'abi': binary_interfaces['device']['abi']\n",
    "}, web3_instance, settings)"
   ]
  },
  {
   "cell_type": "markdown",
   "id": "e0ac4cf0",
   "metadata": {},
   "source": [
    "### FETCH THE DEVICE CONTRACT'S DETAILS"
   ]
  },
  {
   "cell_type": "code",
   "execution_count": 37,
   "id": "914adf59",
   "metadata": {},
   "outputs": [],
   "source": [
    "details = device_contract.read('details')"
   ]
  },
  {
   "cell_type": "code",
   "execution_count": 38,
   "id": "1104a96a",
   "metadata": {},
   "outputs": [
    {
     "name": "stdout",
     "output_type": "stream",
     "text": [
      "OWNER:\t\t 0x1dF62f291b2E969fB0849d99D9Ce41e2F137006e\n",
      "IDENTIFIER:\t another-identifier\n",
      "NAME:\t\t foobar\n",
      "CREATED:\t 10\n",
      "ACTIVE:\t\t False\n"
     ]
    }
   ],
   "source": [
    "print('OWNER:\\t\\t', details[0])\n",
    "print('IDENTIFIER:\\t', details[1])\n",
    "print('NAME:\\t\\t', details[2])\n",
    "print('CREATED:\\t', details[3])\n",
    "print('ACTIVE:\\t\\t', details[4])"
   ]
  },
  {
   "cell_type": "markdown",
   "id": "a8816d7d",
   "metadata": {},
   "source": [
    "### CHANGE THE DEVICE CONTRACT ACTIVE STATUS"
   ]
  },
  {
   "cell_type": "code",
   "execution_count": 39,
   "id": "55ef819b",
   "metadata": {
    "scrolled": false
   },
   "outputs": [
    {
     "data": {
      "text/plain": [
       "AttributeDict({'transactionHash': HexBytes('0x2fd0bd0103cd68ce333ad5b5e8104442c392d139dfc24319abbd17ab8a75b1a6'),\n",
       " 'transactionIndex': 0,\n",
       " 'blockHash': HexBytes('0xb64dbf0cb436d77671847716bf25a8dbef576d24e4719a4f530a8d3f1440a13d'),\n",
       " 'blockNumber': 11,\n",
       " 'from': '0x1dF62f291b2E969fB0849d99D9Ce41e2F137006e',\n",
       " 'to': '0xCa24282be001a428d27FdAC4676561c2EB1DE393',\n",
       " 'gasUsed': 42887,\n",
       " 'cumulativeGasUsed': 42887,\n",
       " 'contractAddress': None,\n",
       " 'logs': [],\n",
       " 'status': 1,\n",
       " 'logsBloom': HexBytes('0x00000000000000000000000000000000000000000000000000000000000000000000000000000000000000000000000000000000000000000000000000000000000000000000000000000000000000000000000000000000000000000000000000000000000000000000000000000000000000000000000000000000000000000000000000000000000000000000000000000000000000000000000000000000000000000000000000000000000000000000000000000000000000000000000000000000000000000000000000000000000000000000000000000000000000000000000000000000000000000000000000000000000000000000000000000000')})"
      ]
     },
     "execution_count": 39,
     "metadata": {},
     "output_type": "execute_result"
    }
   ],
   "source": [
    "device_contract.write('toggle_active')"
   ]
  },
  {
   "cell_type": "markdown",
   "id": "67193794",
   "metadata": {},
   "source": [
    "### CHECK ACTIVE STATUS AGAIN"
   ]
  },
  {
   "cell_type": "code",
   "execution_count": 40,
   "id": "20e46ec6",
   "metadata": {},
   "outputs": [],
   "source": [
    "status = device_contract.read('active')"
   ]
  },
  {
   "cell_type": "code",
   "execution_count": 41,
   "id": "971f16a9",
   "metadata": {
    "scrolled": true
   },
   "outputs": [
    {
     "data": {
      "text/plain": [
       "True"
      ]
     },
     "execution_count": 41,
     "metadata": {},
     "output_type": "execute_result"
    }
   ],
   "source": [
    "status"
   ]
  },
  {
   "cell_type": "code",
   "execution_count": null,
   "id": "491144fb",
   "metadata": {},
   "outputs": [],
   "source": []
  }
 ],
 "metadata": {
  "kernelspec": {
   "display_name": "Python 3",
   "language": "python",
   "name": "python3"
  },
  "language_info": {
   "codemirror_mode": {
    "name": "ipython",
    "version": 3
   },
   "file_extension": ".py",
   "mimetype": "text/x-python",
   "name": "python",
   "nbconvert_exporter": "python",
   "pygments_lexer": "ipython3",
   "version": "3.8.5"
  }
 },
 "nbformat": 4,
 "nbformat_minor": 5
}
