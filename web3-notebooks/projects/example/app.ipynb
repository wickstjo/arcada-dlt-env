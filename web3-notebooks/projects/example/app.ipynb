{
 "cells": [
  {
   "cell_type": "code",
   "execution_count": 5,
   "id": "a81e8c0c",
   "metadata": {},
   "outputs": [],
   "source": [
    "import nbimporter"
   ]
  },
  {
   "cell_type": "code",
   "execution_count": 6,
   "id": "73dfe05a",
   "metadata": {},
   "outputs": [],
   "source": [
    "import utils\n",
    "import blockchain"
   ]
  },
  {
   "cell_type": "markdown",
   "id": "8bd28a2b",
   "metadata": {},
   "source": [
    "### PARSE RESOURCES"
   ]
  },
  {
   "cell_type": "code",
   "execution_count": 7,
   "id": "a8023dce",
   "metadata": {},
   "outputs": [],
   "source": [
    "binary_interfaces = utils.load_json('resources/binary.json')"
   ]
  },
  {
   "cell_type": "code",
   "execution_count": 8,
   "id": "fccf10d7",
   "metadata": {},
   "outputs": [],
   "source": [
    "settings = utils.load_json('resources/settings.json')"
   ]
  },
  {
   "cell_type": "markdown",
   "id": "ad2d1144",
   "metadata": {},
   "source": [
    "### CONNECT WITH A BLOCKCHAIN GATEWAY"
   ]
  },
  {
   "cell_type": "code",
   "execution_count": 9,
   "id": "c91c36ad",
   "metadata": {},
   "outputs": [
    {
     "name": "stdout",
     "output_type": "stream",
     "text": [
      "CONNECTION ESTABLISHED!\n"
     ]
    }
   ],
   "source": [
    "web3_instance = blockchain.connect(settings)"
   ]
  },
  {
   "cell_type": "markdown",
   "id": "5c2454d8",
   "metadata": {},
   "source": [
    "### SERIALIZE THE DEVICE MANAGER"
   ]
  },
  {
   "cell_type": "code",
   "execution_count": 10,
   "id": "0f314096",
   "metadata": {},
   "outputs": [],
   "source": [
    "device_manager = blockchain.contract(\n",
    "    binary_interfaces['devicemanager'],\n",
    "    web3_instance, settings\n",
    ")"
   ]
  },
  {
   "cell_type": "markdown",
   "id": "423c2053",
   "metadata": {},
   "source": [
    "### CREATE A NEW DEVICE CONTRACT"
   ]
  },
  {
   "cell_type": "code",
   "execution_count": 11,
   "id": "6b34dda5",
   "metadata": {},
   "outputs": [],
   "source": [
    "identifier = 'another-identifier'"
   ]
  },
  {
   "cell_type": "code",
   "execution_count": 12,
   "id": "af725f92",
   "metadata": {},
   "outputs": [],
   "source": [
    "name = 'foobar'"
   ]
  },
  {
   "cell_type": "code",
   "execution_count": 13,
   "id": "4d5eaa8d",
   "metadata": {},
   "outputs": [
    {
     "data": {
      "text/plain": [
       "AttributeDict({'transactionHash': HexBytes('0x81b7611692a56224ace14840d775f730421d93ababe8144df9124a055ff33290'),\n",
       " 'transactionIndex': 0,\n",
       " 'blockHash': HexBytes('0xd95d13d6acbb2e3787e8521c69c9550336ac0a489f747d373192347b304c6787'),\n",
       " 'blockNumber': 5,\n",
       " 'from': '0x1dF62f291b2E969fB0849d99D9Ce41e2F137006e',\n",
       " 'to': '0xCfEB869F69431e42cdB54A4F4f105C19C080A601',\n",
       " 'gasUsed': 449578,\n",
       " 'cumulativeGasUsed': 449578,\n",
       " 'contractAddress': None,\n",
       " 'logs': [],\n",
       " 'status': 1,\n",
       " 'logsBloom': HexBytes('0x00000000000000000000000000000000000000000000000000000000000000000000000000000000000000000000000000000000000000000000000000000000000000000000000000000000000000000000000000000000000000000000000000000000000000000000000000000000000000000000000000000000000000000000000000000000000000000000000000000000000000000000000000000000000000000000000000000000000000000000000000000000000000000000000000000000000000000000000000000000000000000000000000000000000000000000000000000000000000000000000000000000000000000000000000000000')})"
      ]
     },
     "execution_count": 13,
     "metadata": {},
     "output_type": "execute_result"
    }
   ],
   "source": [
    "device_manager.write({\n",
    "    'func': 'create_device',\n",
    "    'args': [identifier, name]\n",
    "})"
   ]
  },
  {
   "cell_type": "markdown",
   "id": "94276ce0",
   "metadata": {},
   "source": [
    "### FETCH YOUR DEVICE COLLECTION (IDENTIFIERS)"
   ]
  },
  {
   "cell_type": "code",
   "execution_count": 14,
   "id": "6f635e44",
   "metadata": {},
   "outputs": [],
   "source": [
    "collection =  device_manager.read({\n",
    "    'func': 'fetch_collection',\n",
    "    'args': settings['keys']['public']\n",
    "})"
   ]
  },
  {
   "cell_type": "code",
   "execution_count": 15,
   "id": "12ea2a86",
   "metadata": {
    "scrolled": true
   },
   "outputs": [
    {
     "data": {
      "text/plain": [
       "['another-identifier']"
      ]
     },
     "execution_count": 15,
     "metadata": {},
     "output_type": "execute_result"
    }
   ],
   "source": [
    "collection"
   ]
  },
  {
   "cell_type": "markdown",
   "id": "6bd0bf2b",
   "metadata": {},
   "source": [
    "### FETCH THE CREATED DEVICE CONTRACT'S ADDRESS BY USING THE IDENTIFIER"
   ]
  },
  {
   "cell_type": "code",
   "execution_count": 16,
   "id": "76ada1fa",
   "metadata": {},
   "outputs": [],
   "source": [
    "device_address =  device_manager.read({\n",
    "    'func': 'fetch_device',\n",
    "    'args': identifier\n",
    "})"
   ]
  },
  {
   "cell_type": "code",
   "execution_count": 17,
   "id": "dc95dfe4",
   "metadata": {},
   "outputs": [
    {
     "data": {
      "text/plain": [
       "'0x79183957Be84C0F4dA451E534d5bA5BA3FB9c696'"
      ]
     },
     "execution_count": 17,
     "metadata": {},
     "output_type": "execute_result"
    }
   ],
   "source": [
    "device_address"
   ]
  },
  {
   "cell_type": "markdown",
   "id": "8953905c",
   "metadata": {},
   "source": [
    "### SERIALIZE THE DEVICE CONTRACT"
   ]
  },
  {
   "cell_type": "code",
   "execution_count": 18,
   "id": "a0dd179f",
   "metadata": {},
   "outputs": [],
   "source": [
    "device_contract = blockchain.contract({\n",
    "    'address': device_address,\n",
    "    'abi': binary_interfaces['device']['abi']\n",
    "}, web3_instance, settings)"
   ]
  },
  {
   "cell_type": "markdown",
   "id": "e0ac4cf0",
   "metadata": {},
   "source": [
    "### FETCH THE DEVICE CONTRACT'S DETAILS"
   ]
  },
  {
   "cell_type": "code",
   "execution_count": 19,
   "id": "914adf59",
   "metadata": {},
   "outputs": [],
   "source": [
    "details = device_contract.read('details')"
   ]
  },
  {
   "cell_type": "code",
   "execution_count": 20,
   "id": "1104a96a",
   "metadata": {},
   "outputs": [
    {
     "name": "stdout",
     "output_type": "stream",
     "text": [
      "OWNER:\t\t 0x1dF62f291b2E969fB0849d99D9Ce41e2F137006e\n",
      "IDENTIFIER:\t another-identifier\n",
      "NAME:\t\t foobar\n",
      "CREATED:\t 5\n",
      "ACTIVE:\t\t False\n"
     ]
    }
   ],
   "source": [
    "print('OWNER:\\t\\t', details[0])\n",
    "print('IDENTIFIER:\\t', details[1])\n",
    "print('NAME:\\t\\t', details[2])\n",
    "print('CREATED:\\t', details[3])\n",
    "print('ACTIVE:\\t\\t', details[4])"
   ]
  },
  {
   "cell_type": "markdown",
   "id": "a8816d7d",
   "metadata": {},
   "source": [
    "### CHANGE THE DEVICE CONTRACT ACTIVE STATUS"
   ]
  },
  {
   "cell_type": "code",
   "execution_count": 22,
   "id": "55ef819b",
   "metadata": {
    "scrolled": false
   },
   "outputs": [
    {
     "data": {
      "text/plain": [
       "AttributeDict({'transactionHash': HexBytes('0xc6222707d7cd5810682461389ad904749d5168cd6618093fe20feec1909da74d'),\n",
       " 'transactionIndex': 0,\n",
       " 'blockHash': HexBytes('0x6a2521b34023ee60f9999e84ef36f37ab75de8b576707c6a34016e05235bf094'),\n",
       " 'blockNumber': 7,\n",
       " 'from': '0x1dF62f291b2E969fB0849d99D9Ce41e2F137006e',\n",
       " 'to': '0x79183957Be84C0F4dA451E534d5bA5BA3FB9c696',\n",
       " 'gasUsed': 13944,\n",
       " 'cumulativeGasUsed': 13944,\n",
       " 'contractAddress': None,\n",
       " 'logs': [],\n",
       " 'status': 1,\n",
       " 'logsBloom': HexBytes('0x00000000000000000000000000000000000000000000000000000000000000000000000000000000000000000000000000000000000000000000000000000000000000000000000000000000000000000000000000000000000000000000000000000000000000000000000000000000000000000000000000000000000000000000000000000000000000000000000000000000000000000000000000000000000000000000000000000000000000000000000000000000000000000000000000000000000000000000000000000000000000000000000000000000000000000000000000000000000000000000000000000000000000000000000000000000')})"
      ]
     },
     "execution_count": 22,
     "metadata": {},
     "output_type": "execute_result"
    }
   ],
   "source": [
    "device_contract.write('toggle_active')"
   ]
  },
  {
   "cell_type": "markdown",
   "id": "67193794",
   "metadata": {},
   "source": [
    "### CHECK ACTIVE STATUS AGAIN"
   ]
  },
  {
   "cell_type": "code",
   "execution_count": 23,
   "id": "20e46ec6",
   "metadata": {},
   "outputs": [],
   "source": [
    "status = device_contract.read('active')"
   ]
  },
  {
   "cell_type": "code",
   "execution_count": 19,
   "id": "971f16a9",
   "metadata": {
    "scrolled": true
   },
   "outputs": [
    {
     "data": {
      "text/plain": [
       "True"
      ]
     },
     "execution_count": 19,
     "metadata": {},
     "output_type": "execute_result"
    }
   ],
   "source": [
    "status"
   ]
  },
  {
   "cell_type": "code",
   "execution_count": null,
   "id": "491144fb",
   "metadata": {},
   "outputs": [],
   "source": []
  }
 ],
 "metadata": {
  "kernelspec": {
   "display_name": "Python 3",
   "language": "python",
   "name": "python3"
  },
  "language_info": {
   "codemirror_mode": {
    "name": "ipython",
    "version": 3
   },
   "file_extension": ".py",
   "mimetype": "text/x-python",
   "name": "python",
   "nbconvert_exporter": "python",
   "pygments_lexer": "ipython3",
   "version": "3.8.5"
  }
 },
 "nbformat": 4,
 "nbformat_minor": 5
}
