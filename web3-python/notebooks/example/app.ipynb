{
 "cells": [
  {
   "cell_type": "code",
   "execution_count": 21,
   "id": "a81e8c0c",
   "metadata": {},
   "outputs": [],
   "source": [
    "import nbimporter"
   ]
  },
  {
   "cell_type": "code",
   "execution_count": 22,
   "id": "73dfe05a",
   "metadata": {},
   "outputs": [],
   "source": [
    "import utils\n",
    "import blockchain"
   ]
  },
  {
   "cell_type": "markdown",
   "id": "8bd28a2b",
   "metadata": {},
   "source": [
    "### PARSE RESOURCES"
   ]
  },
  {
   "cell_type": "code",
   "execution_count": 23,
   "id": "fccf10d7",
   "metadata": {},
   "outputs": [],
   "source": [
    "settings = utils.load_json('resources/settings.json')"
   ]
  },
  {
   "cell_type": "code",
   "execution_count": 24,
   "id": "a8023dce",
   "metadata": {},
   "outputs": [],
   "source": [
    "binary_interfaces = utils.load_json('resources/binary_interfaces.json')"
   ]
  },
  {
   "cell_type": "markdown",
   "id": "ad2d1144",
   "metadata": {},
   "source": [
    "### CONNECT WITH A BLOCKCHAIN GATEWAY"
   ]
  },
  {
   "cell_type": "code",
   "execution_count": 25,
   "id": "c91c36ad",
   "metadata": {},
   "outputs": [
    {
     "name": "stdout",
     "output_type": "stream",
     "text": [
      "CONNECTION ESTABLISHED!\n"
     ]
    }
   ],
   "source": [
    "web3_instance = blockchain.connect(settings)"
   ]
  },
  {
   "cell_type": "markdown",
   "id": "5c2454d8",
   "metadata": {},
   "source": [
    "### SERIALIZE THE PARENT CONTRACT"
   ]
  },
  {
   "cell_type": "code",
   "execution_count": 26,
   "id": "0f314096",
   "metadata": {},
   "outputs": [],
   "source": [
    "parent_contract = blockchain.contract(\n",
    "    binary_interfaces['parent'],\n",
    "    web3_instance, settings\n",
    ")"
   ]
  },
  {
   "cell_type": "markdown",
   "id": "ab52a10e",
   "metadata": {},
   "source": [
    "### CHECK CHILD COUNT"
   ]
  },
  {
   "cell_type": "code",
   "execution_count": null,
   "id": "c4df6e27",
   "metadata": {},
   "outputs": [],
   "source": [
    "# READ VARIABLE WITHOUT PARAMS"
   ]
  },
  {
   "cell_type": "code",
   "execution_count": null,
   "id": "942c7070",
   "metadata": {},
   "outputs": [],
   "source": [
    "parent_contract.read('child_count')"
   ]
  },
  {
   "cell_type": "markdown",
   "id": "423c2053",
   "metadata": {},
   "source": [
    "### CREATE NEW CHILD CONTRACT"
   ]
  },
  {
   "cell_type": "code",
   "execution_count": null,
   "id": "7530c3ee",
   "metadata": {},
   "outputs": [],
   "source": [
    "# EXECUTE FUNCTION WITH PARAMS"
   ]
  },
  {
   "cell_type": "code",
   "execution_count": null,
   "id": "4d5eaa8d",
   "metadata": {},
   "outputs": [],
   "source": [
    "smart_contract.write({\n",
    "    'func': 'create_child',\n",
    "    'params': ['foobar']\n",
    "})"
   ]
  },
  {
   "cell_type": "markdown",
   "id": "7312da27",
   "metadata": {},
   "source": [
    "### CHECK CHILD COUNT AGAIN"
   ]
  },
  {
   "cell_type": "code",
   "execution_count": null,
   "id": "f3d1fefc",
   "metadata": {},
   "outputs": [],
   "source": [
    "parent_contract.read('child_count')"
   ]
  },
  {
   "cell_type": "markdown",
   "id": "6bd0bf2b",
   "metadata": {},
   "source": [
    "### FETCH THE CREATED CONTRACTS ADDRESS"
   ]
  },
  {
   "cell_type": "code",
   "execution_count": null,
   "id": "c7579d9e",
   "metadata": {},
   "outputs": [],
   "source": [
    "# READ VARIABLE WITH PARAMS"
   ]
  },
  {
   "cell_type": "code",
   "execution_count": null,
   "id": "76ada1fa",
   "metadata": {},
   "outputs": [],
   "source": [
    "child_address = parent_manager.read({\n",
    "    'func': 'fetch_oracle',\n",
    "    'params': oracle.hash\n",
    "})"
   ]
  },
  {
   "cell_type": "code",
   "execution_count": null,
   "id": "4f3c4136",
   "metadata": {},
   "outputs": [],
   "source": [
    "child_address"
   ]
  },
  {
   "cell_type": "markdown",
   "id": "8953905c",
   "metadata": {},
   "source": [
    "### SERIALIZE CHILD CONTRACT"
   ]
  },
  {
   "cell_type": "code",
   "execution_count": null,
   "id": "a0dd179f",
   "metadata": {},
   "outputs": [],
   "source": [
    "child_contract = blockchain.contract({\n",
    "    'address': child_address,\n",
    "    'abi': binary_interfaces['child']['abi']\n",
    "}, web3, settings)"
   ]
  },
  {
   "cell_type": "code",
   "execution_count": null,
   "id": "914adf59",
   "metadata": {},
   "outputs": [],
   "source": []
  }
 ],
 "metadata": {
  "kernelspec": {
   "display_name": "Python 3",
   "language": "python",
   "name": "python3"
  },
  "language_info": {
   "codemirror_mode": {
    "name": "ipython",
    "version": 3
   },
   "file_extension": ".py",
   "mimetype": "text/x-python",
   "name": "python",
   "nbconvert_exporter": "python",
   "pygments_lexer": "ipython3",
   "version": "3.8.5"
  }
 },
 "nbformat": 4,
 "nbformat_minor": 5
}
